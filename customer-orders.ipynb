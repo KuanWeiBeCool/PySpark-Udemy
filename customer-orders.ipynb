{
 "cells": [
  {
   "cell_type": "code",
   "execution_count": 1,
   "metadata": {},
   "outputs": [
    {
     "name": "stdout",
     "output_type": "stream",
     "text": [
      "['44,8602,37.19', '35,5368,65.89', '2,3391,40.64', '47,6694,14.98', '29,680,13.08']\n"
     ]
    }
   ],
   "source": [
    "import findspark\n",
    "findspark.init()\n",
    "from pyspark import SparkConf, SparkContext\n",
    "\n",
    "conf = SparkConf().setMaster(\"local\").setAppName(\"SpendByCustomer\")\n",
    "sc = SparkContext(conf = conf)\n",
    "\n",
    "lines = sc.textFile(r\"C:\\DataScience\\Jupyter Files\\Spark\\Datasets\\customer-orders.csv\")\n",
    "print(lines.take(5))\n",
    "sc.stop()"
   ]
  },
  {
   "cell_type": "markdown",
   "metadata": {},
   "source": [
    "Comma separated items: the first element is the customer ID, the second element is the item ID, and the third element is the price. Our goal is to calculate the total spent of each customer, and sort the results by the amount spent."
   ]
  },
  {
   "cell_type": "code",
   "execution_count": 1,
   "metadata": {},
   "outputs": [
    {
     "name": "stdout",
     "output_type": "stream",
     "text": [
      "45\t:3309.38\n",
      "79\t:3790.57\n",
      "96\t:3924.23\n",
      "23\t:4042.65\n",
      "99\t:4172.29\n",
      "75\t:4178.50\n",
      "36\t:4278.05\n",
      "98\t:4297.26\n",
      "47\t:4316.30\n",
      "77\t:4327.73\n",
      "13\t:4367.62\n",
      "48\t:4384.33\n",
      "49\t:4394.60\n",
      "94\t:4475.57\n",
      "67\t:4505.79\n",
      "50\t:4517.27\n",
      "78\t:4524.51\n",
      "5\t:4561.07\n",
      "57\t:4628.40\n",
      "83\t:4635.80\n",
      "91\t:4642.26\n",
      "74\t:4647.13\n",
      "84\t:4652.94\n",
      "3\t:4659.63\n",
      "12\t:4664.59\n",
      "66\t:4681.92\n",
      "56\t:4701.02\n",
      "21\t:4707.41\n",
      "80\t:4727.86\n",
      "14\t:4735.03\n",
      "37\t:4735.20\n",
      "7\t:4755.07\n",
      "44\t:4756.89\n",
      "31\t:4765.05\n",
      "82\t:4812.49\n",
      "4\t:4815.05\n",
      "10\t:4819.70\n",
      "88\t:4830.55\n",
      "20\t:4836.86\n",
      "89\t:4851.48\n",
      "95\t:4876.84\n",
      "38\t:4898.46\n",
      "76\t:4904.21\n",
      "86\t:4908.81\n",
      "27\t:4915.89\n",
      "18\t:4921.27\n",
      "53\t:4945.30\n",
      "1\t:4958.60\n",
      "51\t:4975.22\n",
      "16\t:4979.06\n",
      "30\t:4990.72\n",
      "28\t:5000.71\n",
      "22\t:5019.45\n",
      "29\t:5032.53\n",
      "17\t:5032.68\n",
      "60\t:5040.71\n",
      "25\t:5057.61\n",
      "19\t:5059.43\n",
      "81\t:5112.71\n",
      "69\t:5123.01\n",
      "65\t:5140.35\n",
      "11\t:5152.29\n",
      "35\t:5155.42\n",
      "40\t:5186.43\n",
      "87\t:5206.40\n",
      "52\t:5245.06\n",
      "26\t:5250.40\n",
      "62\t:5253.32\n",
      "33\t:5254.66\n",
      "24\t:5259.92\n",
      "93\t:5265.75\n",
      "64\t:5288.69\n",
      "90\t:5290.41\n",
      "55\t:5298.09\n",
      "9\t:5322.65\n",
      "34\t:5330.80\n",
      "72\t:5337.44\n",
      "70\t:5368.25\n",
      "43\t:5368.83\n",
      "92\t:5379.28\n",
      "6\t:5397.88\n",
      "15\t:5413.51\n",
      "63\t:5415.15\n",
      "58\t:5437.73\n",
      "32\t:5496.05\n",
      "61\t:5497.48\n",
      "85\t:5503.43\n",
      "8\t:5517.24\n",
      "0\t:5524.95\n",
      "41\t:5637.62\n",
      "59\t:5642.89\n",
      "42\t:5696.84\n",
      "46\t:5963.11\n",
      "97\t:5977.19\n",
      "2\t:5994.59\n",
      "71\t:5995.66\n",
      "54\t:6065.39\n",
      "39\t:6193.11\n",
      "73\t:6206.20\n",
      "68\t:6375.45\n"
     ]
    }
   ],
   "source": [
    "import findspark\n",
    "findspark.init()\n",
    "from pyspark import SparkConf, SparkContext\n",
    "\n",
    "conf = SparkConf().setMaster(\"local\").setAppName(\"SpendByCustomer\")\n",
    "sc = SparkContext(conf = conf)\n",
    "\n",
    "lines = sc.textFile(r\"C:\\DataScience\\Jupyter Files\\Spark\\Datasets\\customer-orders.csv\")\n",
    "total_spent = lines.map(lambda x: tuple(x.split(','))).map(lambda x: (x[0], float(x[2]))).reduceByKey(lambda x, y: x+y)\n",
    "total_spent_sorted = total_spent.map(lambda x: (x[1], x[0])).sortByKey()\n",
    "\n",
    "results = total_spent_sorted.collect()\n",
    "for result in results:\n",
    "    print(result[1] + '\\t:{:.2f}'.format(result[0]))\n",
    "sc.stop()"
   ]
  }
 ],
 "metadata": {
  "kernelspec": {
   "display_name": "Python 3",
   "language": "python",
   "name": "python3"
  },
  "language_info": {
   "codemirror_mode": {
    "name": "ipython",
    "version": 3
   },
   "file_extension": ".py",
   "mimetype": "text/x-python",
   "name": "python",
   "nbconvert_exporter": "python",
   "pygments_lexer": "ipython3",
   "version": "3.7.4"
  }
 },
 "nbformat": 4,
 "nbformat_minor": 2
}
