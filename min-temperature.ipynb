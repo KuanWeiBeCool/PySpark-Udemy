{
 "cells": [
  {
   "cell_type": "code",
   "execution_count": 4,
   "metadata": {},
   "outputs": [
    {
     "name": "stdout",
     "output_type": "stream",
     "text": [
      "['ITE00100554,18000101,TMAX,-75,,,E,', 'ITE00100554,18000101,TMIN,-148,,,E,', 'GM000010962,18000101,PRCP,0,,,E,', 'EZE00100082,18000101,TMAX,-86,,,E,', 'EZE00100082,18000101,TMIN,-135,,,E,']\n"
     ]
    }
   ],
   "source": [
    "import findspark\n",
    "\n",
    "findspark.init()\n",
    "from pyspark import SparkConf, SparkContext\n",
    "conf = SparkConf().setMaster(\"local\").setAppName(\"FindMinTemperature\")\n",
    "sc = SparkContext(conf=conf)\n",
    "lines = sc.textFile(r\"C:\\DataScience\\Jupyter Files\\Spark\\Datasets\\1800.csv\")\n",
    "print(lines.take(5))\n",
    "sc.stop()"
   ]
  },
  {
   "cell_type": "code",
   "execution_count": 5,
   "metadata": {},
   "outputs": [
    {
     "name": "stdout",
     "output_type": "stream",
     "text": [
      "[('ITE00100554', 'TMAX', 18.5), ('ITE00100554', 'TMIN', 5.359999999999999), ('GM000010962', 'PRCP', 32.0), ('EZE00100082', 'TMAX', 16.52), ('EZE00100082', 'TMIN', 7.699999999999999)]\n"
     ]
    }
   ],
   "source": [
    "import findspark\n",
    "\n",
    "findspark.init()\n",
    "from pyspark import SparkConf, SparkContext\n",
    "conf = SparkConf().setMaster(\"local\").setAppName(\"FindMinTemperature\")\n",
    "sc = SparkContext(conf=conf)\n",
    "lines = sc.textFile(r\"C:\\DataScience\\Jupyter Files\\Spark\\Datasets\\1800.csv\")\n",
    "\n",
    "def parseLine(line):\n",
    "    fields = line.split(',')\n",
    "    stationID = fields[0]\n",
    "    entryType = fields[2]\n",
    "    temperature = float(fields[3]) * 0.1 * (9.0 / 5.0) + 32.0\n",
    "    return (stationID, entryType, temperature)\n",
    "\n",
    "rdd = lines.map(parseLine)\n",
    "print(rdd.take(5))\n",
    "sc.stop()"
   ]
  },
  {
   "cell_type": "markdown",
   "metadata": {},
   "source": [
    "Now we only want rows of 'TMIN' (min temperature). So we can use **filter()** function, which filters the rows using given condition. The new RDD will only contain rows where the condition is True. **Note that filter() function uses all "
   ]
  },
  {
   "cell_type": "code",
   "execution_count": 1,
   "metadata": {},
   "outputs": [
    {
     "name": "stdout",
     "output_type": "stream",
     "text": [
      "[('ITE00100554', 5.359999999999999), ('EZE00100082', 7.699999999999999), ('ITE00100554', 9.5), ('EZE00100082', 8.599999999999998), ('ITE00100554', 23.72)]\n"
     ]
    }
   ],
   "source": [
    "import findspark\n",
    "\n",
    "findspark.init()\n",
    "from pyspark import SparkConf, SparkContext\n",
    "conf = SparkConf().setMaster(\"local\").setAppName(\"FindMinTemperature\")\n",
    "sc = SparkContext(conf=conf)\n",
    "lines = sc.textFile(r\"C:\\DataScience\\Jupyter Files\\Spark\\Datasets\\1800.csv\")\n",
    "\n",
    "def parseLine(line):\n",
    "    fields = line.split(',')\n",
    "    stationID = fields[0]\n",
    "    entryType = fields[2]\n",
    "    temperature = float(fields[3]) * 0.1 * (9.0 / 5.0) + 32.0 # Convert temperature to F\n",
    "    return (stationID, entryType, temperature)\n",
    "\n",
    "rdd = lines.map(parseLine)\n",
    "minTemps = rdd.filter(lambda x: x[1] == 'TMIN').map(lambda x: (x[0], x[2]))\n",
    "print(minTemps.take(5))\n",
    "sc.stop()"
   ]
  },
  {
   "cell_type": "markdown",
   "metadata": {},
   "source": [
    "Now we want to find the minimum temperatures for each location across all year. The way we do it is to use the **reduceByKey()** function. The value we will return is the min value of the previous and the current values. (Note that **reduceByKey()** takes two arguments: the first one is the cumulative term, i.e. what has seen so far, and the second one is the current term. It is applied across samples with the same index)."
   ]
  },
  {
   "cell_type": "code",
   "execution_count": 3,
   "metadata": {},
   "outputs": [
    {
     "name": "stdout",
     "output_type": "stream",
     "text": [
      "[('ITE00100554', 5.359999999999999), ('EZE00100082', 7.699999999999999)]\n"
     ]
    }
   ],
   "source": [
    "import findspark\n",
    "\n",
    "findspark.init()\n",
    "from pyspark import SparkConf, SparkContext\n",
    "conf = SparkConf().setMaster(\"local\").setAppName(\"FindMinTemperature\")\n",
    "sc = SparkContext(conf=conf)\n",
    "lines = sc.textFile(r\"C:\\DataScience\\Jupyter Files\\Spark\\Datasets\\1800.csv\")\n",
    "\n",
    "def parseLine(line):\n",
    "    fields = line.split(',')\n",
    "    stationID = fields[0]\n",
    "    entryType = fields[2]\n",
    "    temperature = float(fields[3]) * 0.1 * (9.0 / 5.0) + 32.0 # Convert temperature to F\n",
    "    return (stationID, entryType, temperature)\n",
    "\n",
    "rdd = lines.map(parseLine)\n",
    "minTemps = rdd.filter(lambda x: x[1] == 'TMIN').map(lambda x: (x[0], x[2]))\n",
    "minTemp = minTemps.reduceByKey(lambda x, y: min(x, y))\n",
    "print(minTemp.take(5))\n",
    "sc.stop()"
   ]
  },
  {
   "cell_type": "markdown",
   "metadata": {},
   "source": [
    "Finally, we perform the action **collect()** to collect the result."
   ]
  },
  {
   "cell_type": "code",
   "execution_count": 5,
   "metadata": {},
   "outputs": [
    {
     "name": "stdout",
     "output_type": "stream",
     "text": [
      "ITE00100554\t5.36\n",
      "EZE00100082\t7.70\n"
     ]
    }
   ],
   "source": [
    "import findspark\n",
    "\n",
    "findspark.init()\n",
    "from pyspark import SparkConf, SparkContext\n",
    "conf = SparkConf().setMaster(\"local\").setAppName(\"FindMinTemperature\")\n",
    "sc = SparkContext(conf=conf)\n",
    "lines = sc.textFile(r\"C:\\DataScience\\Jupyter Files\\Spark\\Datasets\\1800.csv\")\n",
    "\n",
    "def parseLine(line):\n",
    "    fields = line.split(',')\n",
    "    stationID = fields[0]\n",
    "    entryType = fields[2]\n",
    "    temperature = float(fields[3]) * 0.1 * (9.0 / 5.0) + 32.0 # Convert temperature to F\n",
    "    return (stationID, entryType, temperature)\n",
    "\n",
    "rdd = lines.map(parseLine)\n",
    "minTemps = rdd.filter(lambda x: x[1] == 'TMIN').map(lambda x: (x[0], x[2]))\n",
    "minTemp = minTemps.reduceByKey(lambda x, y: min(x, y))\n",
    "results = minTemp.collect()\n",
    "\n",
    "for result in results:\n",
    "    print(result[0] + \"\\t{:.2f}\".format(result[1]))\n",
    "sc.stop()"
   ]
  },
  {
   "cell_type": "markdown",
   "metadata": {},
   "source": [
    "Modify to show the maximum temperature found for each weather station:"
   ]
  },
  {
   "cell_type": "code",
   "execution_count": 7,
   "metadata": {},
   "outputs": [
    {
     "name": "stdout",
     "output_type": "stream",
     "text": [
      "ITE00100554\t90.14\n",
      "EZE00100082\t90.14\n"
     ]
    }
   ],
   "source": [
    "import findspark\n",
    "\n",
    "findspark.init()\n",
    "from pyspark import SparkConf, SparkContext\n",
    "conf = SparkConf().setMaster(\"local\").setAppName(\"FindMinTemperature\")\n",
    "sc = SparkContext(conf=conf)\n",
    "lines = sc.textFile(r\"C:\\DataScience\\Jupyter Files\\Spark\\Datasets\\1800.csv\")\n",
    "\n",
    "def parseLine(line):\n",
    "    fields = line.split(',')\n",
    "    stationID = fields[0]\n",
    "    entryType = fields[2]\n",
    "    temperature = float(fields[3]) * 0.1 * (9.0 / 5.0) + 32.0 # Convert temperature to F\n",
    "    return (stationID, entryType, temperature)\n",
    "\n",
    "rdd = lines.map(parseLine)\n",
    "maxTemps = rdd.filter(lambda x: x[1] == 'TMAX').map(lambda x: (x[0], x[2]))\n",
    "maxTemp = maxTemps.reduceByKey(lambda x, y: max(x, y))\n",
    "results = maxTemp.collect()\n",
    "\n",
    "for result in results:\n",
    "    print(result[0] + \"\\t{:.2f}\".format(result[1]))\n",
    "sc.stop()"
   ]
  }
 ],
 "metadata": {
  "kernelspec": {
   "display_name": "Python 3",
   "language": "python",
   "name": "python3"
  },
  "language_info": {
   "codemirror_mode": {
    "name": "ipython",
    "version": 3
   },
   "file_extension": ".py",
   "mimetype": "text/x-python",
   "name": "python",
   "nbconvert_exporter": "python",
   "pygments_lexer": "ipython3",
   "version": "3.7.4"
  }
 },
 "nbformat": 4,
 "nbformat_minor": 2
}
